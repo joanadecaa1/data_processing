{
  "cells": [
    {
      "cell_type": "markdown",
      "metadata": {
        "id": "view-in-github",
        "colab_type": "text"
      },
      "source": [
        "<a href=\"https://colab.research.google.com/github/joanadecaa1/data_processing/blob/main/spark/misc/read_from_api.ipynb\" target=\"_parent\"><img src=\"https://colab.research.google.com/assets/colab-badge.svg\" alt=\"Open In Colab\"/></a>"
      ]
    },
    {
      "cell_type": "markdown",
      "metadata": {
        "id": "BOA_wQSmLd9z"
      },
      "source": [
        "# Read from API\n",
        "- Read data from API using requests and RDDs"
      ]
    },
    {
      "cell_type": "markdown",
      "metadata": {
        "id": "d9LeYFsPTjAb"
      },
      "source": [
        "# Setting up PySpark"
      ]
    },
    {
      "cell_type": "code",
      "execution_count": null,
      "metadata": {
        "colab": {
          "base_uri": "https://localhost:8080/"
        },
        "id": "uYXeODL0T1fO",
        "outputId": "d34dd2c6-94a9-41fa-9ce3-69b230f6ca7b"
      },
      "outputs": [
        {
          "output_type": "stream",
          "name": "stdout",
          "text": [
            "Requirement already satisfied: pyspark in /usr/local/lib/python3.10/dist-packages (3.5.3)\n",
            "Requirement already satisfied: py4j==0.10.9.7 in /usr/local/lib/python3.10/dist-packages (from pyspark) (0.10.9.7)\n"
          ]
        }
      ],
      "source": [
        "%pip install pyspark"
      ]
    },
    {
      "cell_type": "code",
      "execution_count": 1,
      "metadata": {
        "id": "637HFw00T3LP"
      },
      "outputs": [],
      "source": [
        "from pyspark.sql import SparkSession\n",
        "spark = SparkSession.builder.master('local').appName('Spark Course').config('spark.ui.port', '4050').getOrCreate()\n",
        "sc = spark.sparkContext"
      ]
    },
    {
      "cell_type": "markdown",
      "metadata": {
        "id": "FM8YQx6XGeiL"
      },
      "source": [
        "# Get data from API - Vehicles"
      ]
    },
    {
      "cell_type": "code",
      "execution_count": 2,
      "metadata": {
        "id": "0wntlQDWGeiL"
      },
      "outputs": [],
      "source": [
        "import requests\n",
        "from pyspark.sql.types import *\n",
        "\n",
        "def readFromAPI(url: str, schema: StructType = None):\n",
        "  response = requests.get(url)\n",
        "  rdd = sc.parallelize(response.json())\n",
        "\n",
        "  if schema:\n",
        "    df = spark.read.schema(schema).json(rdd)\n",
        "  else:\n",
        "    df = spark.read.json(rdd)\n",
        "  return df"
      ]
    },
    {
      "cell_type": "code",
      "source": [
        "readFromAPI(\"https://api.carrismetropolitana.pt/municipalities\").show()"
      ],
      "metadata": {
        "id": "F__plK66cZR7",
        "outputId": "87c97050-de0d-4dad-aff8-e0164db5a0a1",
        "colab": {
          "base_uri": "https://localhost:8080/"
        }
      },
      "execution_count": 3,
      "outputs": [
        {
          "output_type": "stream",
          "name": "stdout",
          "text": [
            "+-----------+-------------+----+--------------------+------+---------+----------------+\n",
            "|district_id|district_name|  id|                name|prefix|region_id|     region_name|\n",
            "+-----------+-------------+----+--------------------+------+---------+----------------+\n",
            "|         07|        Évora|0712|        Vendas Novas|    19|    PT187|Alentejo Central|\n",
            "|         11|       Lisboa|1101|            Alenquer|    20|    PT16B|           Oeste|\n",
            "|         11|       Lisboa|1102|   Arruda dos Vinhos|    20|    PT16B|           Oeste|\n",
            "|         11|       Lisboa|1105|             Cascais|    05|    PT170|             AML|\n",
            "|         11|       Lisboa|1106|              Lisboa|    06|    PT170|             AML|\n",
            "|         11|       Lisboa|1107|              Loures|    07|    PT170|             AML|\n",
            "|         11|       Lisboa|1109|               Mafra|    08|    PT170|             AML|\n",
            "|         11|       Lisboa|1110|              Oeiras|    12|    PT170|             AML|\n",
            "|         11|       Lisboa|1111|              Sintra|    17|    PT170|             AML|\n",
            "|         11|       Lisboa|1112|Sobral de Monte A...|    20|    PT16B|           Oeste|\n",
            "|         11|       Lisboa|1113|       Torres Vedras|    20|    PT16B|           Oeste|\n",
            "|         11|       Lisboa|1114| Vila Franca de Xira|    18|    PT170|             AML|\n",
            "|         11|       Lisboa|1115|             Amadora|    03|    PT170|             AML|\n",
            "|         11|       Lisboa|1116|            Odivelas|    11|    PT170|             AML|\n",
            "|         15|      Setúbal|1502|           Alcochete|    01|    PT170|             AML|\n",
            "|         15|      Setúbal|1503|              Almada|    02|    PT170|             AML|\n",
            "|         15|      Setúbal|1504|            Barreiro|    04|    PT170|             AML|\n",
            "|         15|      Setúbal|1506|               Moita|    09|    PT170|             AML|\n",
            "|         15|      Setúbal|1507|             Montijo|    10|    PT170|             AML|\n",
            "|         15|      Setúbal|1508|             Palmela|    13|    PT170|             AML|\n",
            "+-----------+-------------+----+--------------------+------+---------+----------------+\n",
            "only showing top 20 rows\n",
            "\n"
          ]
        }
      ]
    },
    {
      "cell_type": "markdown",
      "source": [
        "# Vehicles"
      ],
      "metadata": {
        "id": "D7iupARGb51N"
      }
    },
    {
      "cell_type": "code",
      "execution_count": 4,
      "metadata": {
        "colab": {
          "base_uri": "https://localhost:8080/"
        },
        "id": "VUI0pjsuJh5z",
        "outputId": "70bc019f-8c09-4f43-ff7a-6b81f0f949ea"
      },
      "outputs": [
        {
          "output_type": "stream",
          "name": "stdout",
          "text": [
            "374\n",
            "+-------+--------------------+--------------+--------+---------+-------+----------+----------+--------+---------------------+------------+---------+-------+-------------------+--------------------+\n",
            "|bearing|            block_id|current_status|      id|      lat|line_id|       lon|pattern_id|route_id|schedule_relationship|    shift_id|    speed|stop_id|          timestamp|             trip_id|\n",
            "+-------+--------------------+--------------+--------+---------+-------+----------+----------+--------+---------------------+------------+---------+-------+-------------------+--------------------+\n",
            "|     95|20241116-64020101...|   INCOMING_AT|44|12067| 38.52939|   4404|  -8.88578|  4404_0_3|  4404_0|            SCHEDULED|112290000007|      0.0| 160067|2024-11-16 16:51:54|4404_0_3|1600|163...|\n",
            "|    329|20241116-64020034...|   INCOMING_AT|44|12676| 38.74072|   4725| -9.167635|  4725_0_2|  4725_0|            SCHEDULED|113040000007| 8.611111| 060459|2024-11-16 16:52:31|4725_0_2|1600|160...|\n",
            "|    303|20241116-64020232...| IN_TRANSIT_TO|44|12671|38.655468|   4701| -9.009341|  4701_0_1|  4701_0|            SCHEDULED|123110000007|1.9444444| 090005|2024-11-16 16:52:58|4701_0_1|1600|160...|\n",
            "|     67|20241116-64020135...| IN_TRANSIT_TO|44|12530|  38.6558|   4621| -8.991154|  4621_0_2|  4621_0|            SCHEDULED|121260000007|      0.0| 090060|2024-11-16 16:52:59|4621_0_2|1600|155...|\n",
            "|     13|             4049-21| IN_TRANSIT_TO| 42|2106|38.822132|   2725| -9.146079|  2725_0_2|  2725_0|            SCHEDULED|        4043|13.611111| 070493|2024-11-16 16:53:04|2725_0_2|2|1|1630...|\n",
            "|     16|           2_2029-21| IN_TRANSIT_TO| 41|1341|38.706062|   1502|  -9.23012|  1502_0_1|  1502_0|            SCHEDULED|        2029|3.3333333| 121047|2024-11-16 16:52:29|1502_0_1_1630_165...|\n",
            "|     86|20241116-64020172...| IN_TRANSIT_TO|44|12566| 38.52544|   4426| -8.891728|  4426_0_1|  4426_0|            SCHEDULED|112330000007|3.8888888| 160139|2024-11-16 16:53:00|4426_0_1|1600|164...|\n",
            "|     56|           2_2412-21| IN_TRANSIT_TO| 41|1290| 38.72242|   1606| -9.217345|  1606_0_2|  1606_0|            SCHEDULED|        2426| 9.166667| 120008|2024-11-16 16:53:02|1606_0_2_1600_162...|\n",
            "|    319|20241116-64020014...| IN_TRANSIT_TO|44|12584|38.542217|   4562| -8.878045|  4562_0_1|  4562_0|            SCHEDULED|111040000007| 8.888889| 160515|2024-11-16 16:53:04|4562_0_1|1600|164...|\n",
            "|     97|20241116-64020055...| IN_TRANSIT_TO|44|12708| 38.78518|   4720| -9.082622|  4720_0_1|  4720_0|            SCHEDULED|113160000007|     27.5| 160027|2024-11-16 16:52:59|4720_0_1|1600|164...|\n",
            "|    125|20241116-64020061...| IN_TRANSIT_TO|44|12522|38.657124|   4600| -9.036948|  4600_0_2|  4600_0|            SCHEDULED|121180000007| 9.166667| 090189|2024-11-16 16:53:02|4600_0_2|1600|163...|\n",
            "|    276|             4503-21|    STOPPED_AT| 42|2211|38.789963|   2780| -9.209749|  2780_0_1|  2780_0|            SCHEDULED|        4551|      0.0| 110677|2024-11-16 16:53:01|2780_0_1|2|1|1555...|\n",
            "|      0|             4512-21|    STOPPED_AT| 42|2205|38.811066|   2605| -9.231349|  2605_2_2|  2605_2|            SCHEDULED|        4554|      0.0| 110009|2024-11-16 16:53:09|2605_2_2|2|1|1615...|\n",
            "|    293|20241116-64020124...| IN_TRANSIT_TO|44|12502|38.751377|   4501| -8.942886|  4501_0_1|  4501_0|            SCHEDULED|121400000007|      0.0| 010136|2024-11-16 16:52:58|4501_0_1|1600|165...|\n",
            "|    181|20241116-64020084...| IN_TRANSIT_TO|44|13699|38.776295|   4720|-9.1056385|  4720_0_2|  4720_0|            SCHEDULED|113110000007|     15.0| 060005|2024-11-16 16:52:59|4720_0_2|1600|161...|\n",
            "|    333|20241116-64020230...| IN_TRANSIT_TO|44|12716|38.656982|   4701| -8.991565|  4701_0_2|  4701_0|            SCHEDULED|123150000007|      0.0| 090100|2024-11-16 16:52:59|4701_0_2|1600|163...|\n",
            "|    100|20241116-64020110...| IN_TRANSIT_TO|44|12557|38.530113|   4440| -8.875758|  4440_0_2|  4440_0|            SCHEDULED|112320000007|0.5555556| 160026|2024-11-16 16:53:00|4440_0_2|1600|163...|\n",
            "|    229|           2_2209-21| IN_TRANSIT_TO| 41|1314|38.750286|   1215| -9.293116|  1215_0_3|  1215_0|            SCHEDULED|        2212|7.2222223| 170721|2024-11-16 16:53:00|1215_0_3_1630_165...|\n",
            "|      0|           2_2901-21|    STOPPED_AT| 41|1369|38.778206|   1508| -9.249746|  1508_0_2|  1508_0|            SCHEDULED|        2901|      0.0| 030596|2024-11-16 16:53:07|1508_0_2_1630_165...|\n",
            "|      0|           2_2002-21|    STOPPED_AT| 41|1320| 38.77696|   1706|   -9.2176|  1706_0_2|  1706_0|            SCHEDULED|        2073|      0.0| 030850|2024-11-16 16:52:30|1706_0_2_1630_165...|\n",
            "+-------+--------------------+--------------+--------+---------+-------+----------+----------+--------+---------------------+------------+---------+-------+-------------------+--------------------+\n",
            "only showing top 20 rows\n",
            "\n"
          ]
        }
      ],
      "source": [
        "vehicle_schema = StructType([StructField('bearing', IntegerType(), True),\n",
        "                             StructField('block_id', StringType(), True),\n",
        "                             StructField('current_status', StringType(), True),\n",
        "                             StructField('id', StringType(), True),\n",
        "                             StructField('lat', FloatType(), True),\n",
        "                             StructField('line_id', StringType(), True),\n",
        "                             StructField('lon', FloatType(), True),\n",
        "                             StructField('pattern_id', StringType(), True),\n",
        "                             StructField('route_id', StringType(), True),\n",
        "                             StructField('schedule_relationship', StringType(), True),\n",
        "                             StructField('shift_id', StringType(), True),\n",
        "                             StructField('speed', FloatType(), True),\n",
        "                             StructField('stop_id', StringType(), True),\n",
        "                             StructField('timestamp', TimestampType(), True),\n",
        "                             StructField('trip_id', StringType(), True)])\n",
        "\n",
        "vehicles = readFromAPI(\"https://api.carrismetropolitana.pt/vehicles\", vehicle_schema)\n",
        "print(vehicles.count())\n",
        "vehicles.show()"
      ]
    },
    {
      "cell_type": "markdown",
      "source": [
        "# Routes"
      ],
      "metadata": {
        "id": "wY3qFrIsd59o"
      }
    },
    {
      "cell_type": "code",
      "source": [
        "routes.printSchema"
      ],
      "metadata": {
        "id": "ay0kyR1k5q82",
        "outputId": "5da7bc98-cb74-4dc3-a4d2-ce69645dce64",
        "colab": {
          "base_uri": "https://localhost:8080/",
          "height": 187
        }
      },
      "execution_count": 6,
      "outputs": [
        {
          "output_type": "execute_result",
          "data": {
            "text/plain": [
              "<bound method DataFrame.printSchema of DataFrame[_corrupt_record: string, color: string, facilities: array<string>, id: string, line_id: string, localities: array<string>, long_name: string, municipalities: array<string>, patterns: array<string>, short_name: string, text_color: string]>"
            ],
            "text/html": [
              "<div style=\"max-width:800px; border: 1px solid var(--colab-border-color);\"><style>\n",
              "      pre.function-repr-contents {\n",
              "        overflow-x: auto;\n",
              "        padding: 8px 12px;\n",
              "        max-height: 500px;\n",
              "      }\n",
              "\n",
              "      pre.function-repr-contents.function-repr-contents-collapsed {\n",
              "        cursor: pointer;\n",
              "        max-height: 100px;\n",
              "      }\n",
              "    </style>\n",
              "    <pre style=\"white-space: initial; background:\n",
              "         var(--colab-secondary-surface-color); padding: 8px 12px;\n",
              "         border-bottom: 1px solid var(--colab-border-color);\"><b>pyspark.sql.dataframe.DataFrame.printSchema</b><br/>def printSchema(level: Optional[int]=None) -&gt; None</pre><pre class=\"function-repr-contents function-repr-contents-collapsed\" style=\"\"><a class=\"filepath\" style=\"display:none\" href=\"#\">/usr/local/lib/python3.10/dist-packages/pyspark/sql/dataframe.py</a>Prints out the schema in the tree format.\n",
              "Optionally allows to specify how many levels to print if schema is nested.\n",
              "\n",
              ".. versionadded:: 1.3.0\n",
              "\n",
              ".. versionchanged:: 3.4.0\n",
              "    Supports Spark Connect.\n",
              "\n",
              "Parameters\n",
              "----------\n",
              "level : int, optional, default None\n",
              "    How many levels to print for nested schemas.\n",
              "\n",
              "    .. versionchanged:: 3.5.0\n",
              "        Added Level parameter.\n",
              "\n",
              "Examples\n",
              "--------\n",
              "&gt;&gt;&gt; df = spark.createDataFrame(\n",
              "...     [(14, &quot;Tom&quot;), (23, &quot;Alice&quot;), (16, &quot;Bob&quot;)], [&quot;age&quot;, &quot;name&quot;])\n",
              "&gt;&gt;&gt; df.printSchema()\n",
              "root\n",
              " |-- age: long (nullable = true)\n",
              " |-- name: string (nullable = true)\n",
              "\n",
              "&gt;&gt;&gt; df = spark.createDataFrame([(1, (2,2))], [&quot;a&quot;, &quot;b&quot;])\n",
              "&gt;&gt;&gt; df.printSchema(1)\n",
              "root\n",
              " |-- a: long (nullable = true)\n",
              " |-- b: struct (nullable = true)\n",
              "\n",
              "&gt;&gt;&gt; df.printSchema(2)\n",
              "root\n",
              " |-- a: long (nullable = true)\n",
              " |-- b: struct (nullable = true)\n",
              " |    |-- _1: long (nullable = true)\n",
              " |    |-- _2: long (nullable = true)</pre>\n",
              "      <script>\n",
              "      if (google.colab.kernel.accessAllowed && google.colab.files && google.colab.files.view) {\n",
              "        for (const element of document.querySelectorAll('.filepath')) {\n",
              "          element.style.display = 'block'\n",
              "          element.onclick = (event) => {\n",
              "            event.preventDefault();\n",
              "            event.stopPropagation();\n",
              "            google.colab.files.view(element.textContent, 583);\n",
              "          };\n",
              "        }\n",
              "      }\n",
              "      for (const element of document.querySelectorAll('.function-repr-contents')) {\n",
              "        element.onclick = (event) => {\n",
              "          event.preventDefault();\n",
              "          event.stopPropagation();\n",
              "          element.classList.toggle('function-repr-contents-collapsed');\n",
              "        };\n",
              "      }\n",
              "      </script>\n",
              "      </div>"
            ]
          },
          "metadata": {},
          "execution_count": 6
        }
      ]
    },
    {
      "cell_type": "code",
      "source": [
        "routes.show()"
      ],
      "metadata": {
        "id": "LfwGJzhk5xIu",
        "outputId": "79eecb42-22e2-4c4e-c886-af1ad45d38bf",
        "colab": {
          "base_uri": "https://localhost:8080/"
        }
      },
      "execution_count": 7,
      "outputs": [
        {
          "output_type": "stream",
          "name": "stdout",
          "text": [
            "+--------------------+-------+----------+------+-------+--------------------+--------------------+--------------+--------------------+----------+----------+\n",
            "|     _corrupt_record|  color|facilities|    id|line_id|          localities|           long_name|municipalities|            patterns|short_name|text_color|\n",
            "+--------------------+-------+----------+------+-------+--------------------+--------------------+--------------+--------------------+----------+----------+\n",
            "|                NULL|#C61D23|        []|1001_0|   1001|[Alfragide, Amado...|Alfragide (Estr S...|        [1115]|[1001_0_1, 1001_0_2]|      1001|   #FFFFFF|\n",
            "|                NULL|#C61D23|        []|1002_0|   1002|[Reboleira, Amado...|Reboleira (Estaçã...|        [1115]|          [1002_0_3]|      1002|   #FFFFFF|\n",
            "|                NULL|#C61D23|        []|1003_0|   1003|[Amadora, Amadora...|Amadora (Estação ...|        [1115]|[1003_0_1, 1003_0_2]|      1003|   #FFFFFF|\n",
            "|                NULL|#C61D23|        []|1004_0|   1004|[Amadora, Moinhos...|Amadora (Estação ...|        [1115]|          [1004_0_3]|      1004|   #FFFFFF|\n",
            "|                NULL|#C61D23|        []|1005_0|   1005|[Amadora, Casal d...|Amadora (Estação ...|        [1115]|[1005_0_1, 1005_0_2]|      1005|   #FFFFFF|\n",
            "|                NULL|#C61D23|        []|1005_1|   1005|           [Amadora]|Casal São Brás - ...|        [1115]|          [1005_1_2]|      1005|   #FFFFFF|\n",
            "|                NULL|#C61D23|        []|1005_2|   1005|           [Amadora]|Amadora (Estação ...|        [1115]|          [1005_2_3]|      1005|   #FFFFFF|\n",
            "|                NULL|#C61D23|        []|1006_0|   1006|[Amadora, Moinhos...|Amadora (Estação ...|        [1115]|[1006_0_1, 1006_0_2]|      1006|   #FFFFFF|\n",
            "|                NULL|#C61D23|        []|1006_1|   1006|[Amadora, Moinhos...|Amadora (Estação ...|        [1115]|[1006_1_1, 1006_1_2]|      1006|   #FFFFFF|\n",
            "|{'color': '#3D85C...|#3D85C6|        []|1008_0|   1008|                NULL|Amadora Este (Met...|        [1115]|          [1008_0_3]|      1008|   #FFFFFF|\n",
            "|                NULL|#3D85C6|        []|1009_0|   1009|   [Amadora, Sintra]|Amadora (Hospital...|  [1115, 1111]|          [1009_0_3]|      1009|   #FFFFFF|\n",
            "|                NULL|#C61D23|        []|1010_0|   1010|[Brandoa, Amadora...|Brandoa (Pólo Esc...|        [1115]|[1010_0_1, 1010_0_2]|      1010|   #FFFFFF|\n",
            "|                NULL|#C61D23|        []|1011_0|   1011|[Brandoa, Amadora...|Brandoa (Largo) -...|        [1115]|[1011_0_1, 1011_0_2]|      1011|   #FFFFFF|\n",
            "|                NULL|#C61D23|        []|1011_1|   1011|[Reboleira, Amado...|Brandoa (Largo) -...|        [1115]|          [1011_1_3]|      1011|   #FFFFFF|\n",
            "|                NULL|#3D85C6|        []|1012_0|   1012|[Amadora, Brandoa...|Alfornelos Metro ...|        [1115]|          [1012_0_3]|      1012|   #FFFFFF|\n",
            "|                NULL|#C61D23|        []|1013_0|   1013|  [Amadora, Atalaia]|Amadora (Cemitéri...|        [1115]|[1013_0_1, 1013_0_2]|      1013|   #FFFFFF|\n",
            "|                NULL|#C61D23|        []|1014_0|   1014|[Amadora, Rebolei...|Amadora (Cemitéri...|        [1115]|[1014_0_1, 1014_0_2]|      1014|   #FFFFFF|\n",
            "|                NULL|#3D85C6|        []|1015_0|   1015|[Reboleira, Amado...|Reboleira (Estaçã...|        [1115]|          [1015_0_3]|      1015|   #FFFFFF|\n",
            "|                NULL|#C61D23|        []|1101_0|   1101|[Alfragide, Oeira...|Alfragide (Centro...|        [1110]|[1101_0_1, 1101_0_2]|      1101|   #FFFFFF|\n",
            "|                NULL|#C61D23|        []|1101_1|   1101|[Alfragide, Oeira...|Alfragide (Centro...|        [1110]|[1101_1_1, 1101_1_2]|      1101|   #FFFFFF|\n",
            "+--------------------+-------+----------+------+-------+--------------------+--------------------+--------------+--------------------+----------+----------+\n",
            "only showing top 20 rows\n",
            "\n"
          ]
        }
      ]
    },
    {
      "cell_type": "code",
      "source": [
        "from pyspark.sql.functions import *\n",
        "routes = readFromAPI(\"https://api.carrismetropolitana.pt/routes\")\n",
        "print(routes.count())\n",
        "routes.filter(array_contains(col(\"localities\"), \"Colégio Militar\") & array_contains(col(\"localities\"), \"Brandoa\")).show(100, False)"
      ],
      "metadata": {
        "colab": {
          "base_uri": "https://localhost:8080/"
        },
        "id": "61ctySGTcWKQ",
        "outputId": "36e4f043-9b3a-4908-f2a7-e3f3a3307a5c"
      },
      "execution_count": 8,
      "outputs": [
        {
          "output_type": "stream",
          "name": "stdout",
          "text": [
            "1017\n",
            "+---------------+-------+----------+------+-------+-----------------------------------------------------------------------------------------+------------------------------------------------------------------+--------------+--------------------+----------+----------+\n",
            "|_corrupt_record|color  |facilities|id    |line_id|localities                                                                               |long_name                                                         |municipalities|patterns            |short_name|text_color|\n",
            "+---------------+-------+----------+------+-------+-----------------------------------------------------------------------------------------+------------------------------------------------------------------+--------------+--------------------+----------+----------+\n",
            "|NULL           |#C61D23|[]        |1706_0|1706   |[Colégio Militar, Lisboa, Amadora, Brandoa, Casal da Mira, Alfornelos, Benfica]          |Colégio Militar (Metro) - UBBO via Brandoa                        |[1106, 1115]  |[1706_0_1, 1706_0_2]|1706      |#FFFFFF   |\n",
            "|NULL           |#C61D23|[]        |1706_2|1706   |[Colégio Militar, Lisboa, Amadora, Brandoa, Alfornelos, Benfica]                         |Colégio Militar (Metro) - Brandoa (Alto)                          |[1106, 1115]  |[1706_2_1, 1706_2_2]|1706      |#FFFFFF   |\n",
            "|NULL           |#C61D23|[]        |1708_0|1708   |[Casal da Mira, Amadora, Brandoa, Alfornelos, Lisboa, Benfica, Colégio Militar, Pontinha]|Casal Mira (Centro Comercial) | Circular                          |[1115, 1106]  |[1708_0_3]          |1708      |#FFFFFF   |\n",
            "|NULL           |#C61D23|[]        |1708_1|1708   |[Brandoa, Amadora, Alfornelos, Lisboa, Benfica, Colégio Militar, Pontinha]               |Brandoa (Alto) – Circular                                         |[1115, 1106]  |[1708_1_3]          |1708      |#FFFFFF   |\n",
            "|NULL           |#C61D23|[]        |1708_2|1708   |[Casal da Mira, Amadora, Brandoa, Alfornelos, Lisboa, Benfica, Colégio Militar, Pontinha]|Casal Mira (Centro Comercial) – Brandoa (Alto) via Colégio Militar|[1115, 1106]  |[1708_2_1]          |1708      |#FFFFFF   |\n",
            "+---------------+-------+----------+------+-------+-----------------------------------------------------------------------------------------+------------------------------------------------------------------+--------------+--------------------+----------+----------+\n",
            "\n"
          ]
        }
      ]
    },
    {
      "cell_type": "code",
      "source": [
        "#------------------------------------------"
      ],
      "metadata": {
        "id": "Kyz3kF235qZN"
      },
      "execution_count": 9,
      "outputs": []
    },
    {
      "cell_type": "code",
      "source": [
        "routes.schema #Esta é a etsrutura dos dados,mas devemos sempre verificar"
      ],
      "metadata": {
        "id": "7AJS1OD46zn0",
        "outputId": "31e0a6d9-2b57-4112-d93a-c35c4c47f959",
        "colab": {
          "base_uri": "https://localhost:8080/"
        }
      },
      "execution_count": 10,
      "outputs": [
        {
          "output_type": "execute_result",
          "data": {
            "text/plain": [
              "StructType([StructField('_corrupt_record', StringType(), True), StructField('color', StringType(), True), StructField('facilities', ArrayType(StringType(), True), True), StructField('id', StringType(), True), StructField('line_id', StringType(), True), StructField('localities', ArrayType(StringType(), True), True), StructField('long_name', StringType(), True), StructField('municipalities', ArrayType(StringType(), True), True), StructField('patterns', ArrayType(StringType(), True), True), StructField('short_name', StringType(), True), StructField('text_color', StringType(), True)])"
            ]
          },
          "metadata": {},
          "execution_count": 10
        }
      ]
    },
    {
      "cell_type": "code",
      "source": [],
      "metadata": {
        "id": "xkCV8_2V63Du"
      },
      "execution_count": null,
      "outputs": []
    },
    {
      "cell_type": "markdown",
      "source": [
        "# Questions"
      ],
      "metadata": {
        "id": "fD94isDGeYOD"
      }
    },
    {
      "cell_type": "markdown",
      "source": [
        "# Q1\n",
        "- adjust ROUTE dataframe\n",
        "  - use correct schema to get the data (StructField)\n",
        "  - make sure _corrupt_record is removed from schema\n",
        "- find the routes that pass through the localities \"Brandoa\" and \"Colégio Militar\""
      ],
      "metadata": {
        "id": "c3KKfwbQebwt"
      }
    },
    {
      "cell_type": "markdown",
      "metadata": {
        "id": "4oONLIeBS8JQ"
      },
      "source": [
        "### API - https://github.com/carrismetropolitana/api"
      ]
    }
  ],
  "metadata": {
    "colab": {
      "provenance": [],
      "include_colab_link": true
    },
    "kernelspec": {
      "display_name": "Python 3",
      "name": "python3"
    },
    "language_info": {
      "name": "python"
    }
  },
  "nbformat": 4,
  "nbformat_minor": 0
}