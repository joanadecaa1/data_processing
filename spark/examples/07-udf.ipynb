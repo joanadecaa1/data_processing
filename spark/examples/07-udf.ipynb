{
  "cells": [
    {
      "cell_type": "markdown",
      "metadata": {
        "id": "view-in-github",
        "colab_type": "text"
      },
      "source": [
        "<a href=\"https://colab.research.google.com/github/joanadecaa1/data_processing/blob/main/spark/examples/07-udf.ipynb\" target=\"_parent\"><img src=\"https://colab.research.google.com/assets/colab-badge.svg\" alt=\"Open In Colab\"/></a>"
      ]
    },
    {
      "cell_type": "markdown",
      "metadata": {
        "id": "WlN-UqJCq5Q_"
      },
      "source": [
        "<a href=\"https://colab.research.google.com/github/lucprosa/dataeng-basic-course/blob/main/spark/examples/07-udf.ipynb\" target=\"_parent\"><img src=\"https://colab.research.google.com/assets/colab-badge.svg\" alt=\"Open In Colab\"/></a>"
      ]
    },
    {
      "cell_type": "markdown",
      "metadata": {
        "id": "BOA_wQSmLd9z"
      },
      "source": [
        "# UDF\n",
        "### Performance gaps with UDF\n",
        "\n",
        "- Serialization and Deserialization: Data needs to be serialized and deserialized between the JVM and Python processes. This back-and-forth communication can introduce latency.\n",
        "- Single-threaded Execution: UDFs in PySpark are executed in a single thread, making them less efficient compared to the parallel execution capabilities of native Spark functions.\n",
        "- Lack of Optimization: Spark’s Catalyst optimizer does not optimize UDFs, leading to potentially inefficient execution plans.\n",
        "\n",
        "### When to use\n",
        "- Use UDFs for logic that is difficult to express with built-in Apache Spark functions. Built-in Apache Spark functions are optimized for distributed processing and generally offer better performance at scale. For more information, see Functions.\n",
        "\n",
        "- Databricks recommends UDFs for ad hoc queries, manual data cleansing, exploratory data analysis, and operations on small to medium-sized datasets. Common use cases for UDFs include data encryption and decryption, hashing, JSON parsing, and validation.\n",
        "\n",
        "- Use Apache Spark methods for operations on very large datasets and any workloads that are run regularly or continuously, including ETL jobs and streaming operations."
      ]
    },
    {
      "cell_type": "markdown",
      "metadata": {
        "id": "d9LeYFsPTjAb"
      },
      "source": [
        "# Setting up PySpark"
      ]
    },
    {
      "cell_type": "code",
      "execution_count": null,
      "metadata": {
        "colab": {
          "base_uri": "https://localhost:8080/"
        },
        "id": "uYXeODL0T1fO",
        "outputId": "c410e46c-4a50-43aa-926f-d0417c6280d2"
      },
      "outputs": [
        {
          "name": "stdout",
          "output_type": "stream",
          "text": [
            "Requirement already satisfied: pyspark in /usr/local/lib/python3.10/dist-packages (3.5.3)\n",
            "Requirement already satisfied: py4j==0.10.9.7 in /usr/local/lib/python3.10/dist-packages (from pyspark) (0.10.9.7)\n"
          ]
        }
      ],
      "source": [
        "%pip install pyspark"
      ]
    },
    {
      "cell_type": "code",
      "execution_count": 1,
      "metadata": {
        "id": "637HFw00T3LP"
      },
      "outputs": [],
      "source": [
        "from pyspark.sql import SparkSession\n",
        "spark = SparkSession.builder.master('local').appName('Spark Course').config('spark.ui.port', '4050').getOrCreate()\n",
        "sc = spark.sparkContext"
      ]
    },
    {
      "cell_type": "markdown",
      "metadata": {
        "id": "tyR1PQGxq5RC"
      },
      "source": [
        "# UDF"
      ]
    },
    {
      "cell_type": "code",
      "execution_count": 2,
      "metadata": {
        "colab": {
          "base_uri": "https://localhost:8080/"
        },
        "id": "cJW8fERxq5RC",
        "outputId": "534ab295-1b0e-46ba-81b0-2696359fc30d"
      },
      "outputs": [
        {
          "output_type": "stream",
          "name": "stdout",
          "text": [
            "+----------+--------------+------------+\n",
            "|slen(name)|to_upper(name)|add_one(age)|\n",
            "+----------+--------------+------------+\n",
            "|         8|      JOHN DOE|          22|\n",
            "+----------+--------------+------------+\n",
            "\n"
          ]
        }
      ],
      "source": [
        "# UDF examples\n",
        "\n",
        "from pyspark.sql.functions import udf\n",
        "from pyspark.sql.types import IntegerType\n",
        "\n",
        "slen = udf(lambda s: len(s), IntegerType())\n",
        "\n",
        "@udf\n",
        "def to_upper(s):\n",
        "    if s is not None:\n",
        "        return s.upper()\n",
        "\n",
        "@udf(returnType=IntegerType())\n",
        "def add_one(x):\n",
        "    if x is not None:\n",
        "        return x + 1\n",
        "\n",
        "df = spark.createDataFrame([(1, \"John Doe\", 21)], (\"id\", \"name\", \"age\"))\n",
        "df.select(slen(\"name\").alias(\"slen(name)\"), to_upper(\"name\"), add_one(\"age\")).show()"
      ]
    },
    {
      "cell_type": "code",
      "execution_count": 3,
      "metadata": {
        "id": "7Er_akN6suUy"
      },
      "outputs": [],
      "source": [
        "# Preparing the data\n",
        "employee_data = [(\"101\", \"Chloe\", 3),\n",
        "            (\"102\", \"Paul\", 1),\n",
        "            (\"103\", \"John\", 1),\n",
        "            (\"104\", \"Lisa\", 2),\n",
        "            (\"105\", \"Evan\", 3),\n",
        "            (\"106\", \"Amy\", 3),\n",
        "            (\"107\", \"Jimmy\", 5)]\n",
        "\n",
        "employee_columns = [\"id\", \"name\", \"dpto\"]\n",
        "\n",
        "employee = sc.parallelize(employee_data).toDF(employee_columns)"
      ]
    },
    {
      "cell_type": "code",
      "execution_count": 4,
      "metadata": {
        "colab": {
          "base_uri": "https://localhost:8080/"
        },
        "id": "55CrjaQZs7Fm",
        "outputId": "0dd94137-8012-459b-9c00-3d45c00af60f"
      },
      "outputs": [
        {
          "output_type": "stream",
          "name": "stdout",
          "text": [
            "+---+-----+----+---------------+\n",
            "| id| name|dpto|additional_info|\n",
            "+---+-----+----+---------------+\n",
            "|101|Chloe|   3|          Chloe|\n",
            "|102| Paul|   1|           Paul|\n",
            "|103| John|   1|     John#FIRED|\n",
            "|104| Lisa|   2|     Lisa#FIRED|\n",
            "|105| Evan|   3|     Evan#FIRED|\n",
            "|106|  Amy|   3|            Amy|\n",
            "|107|Jimmy|   5|          Jimmy|\n",
            "+---+-----+----+---------------+\n",
            "\n"
          ]
        }
      ],
      "source": [
        "\n",
        "# Creating UDF to identify the employess that will be fired\n",
        "\n",
        "fired_employees = [\"John\", \"Lisa\", \"Evan\"]\n",
        "\n",
        "@udf\n",
        "def add_char_at_end(s, fired=fired_employees):\n",
        "  if s in fired:\n",
        "    return f\"{s}#FIRED\"\n",
        "  else:\n",
        "    return s\n",
        "\n",
        "employee.select(employee[\"*\"], add_char_at_end(\"name\").alias(\"additional_info\")).show()"
      ]
    },
    {
      "cell_type": "code",
      "execution_count": 5,
      "metadata": {
        "colab": {
          "base_uri": "https://localhost:8080/"
        },
        "id": "yqYB0iRtyfi9",
        "outputId": "fd095fdf-3fa0-45bd-9096-22d3ab4d92c5"
      },
      "outputs": [
        {
          "output_type": "stream",
          "name": "stdout",
          "text": [
            "+------+\n",
            "|length|\n",
            "+------+\n",
            "|    23|\n",
            "+------+\n",
            "\n"
          ]
        }
      ],
      "source": [
        "# Can be used in SQL\n",
        "\n",
        "slen = udf(lambda s: len(s), IntegerType())\n",
        "spark.udf.register(\"slen\", slen)\n",
        "\n",
        "qry2 = \"\"\"SELECT slen(\"Data Engineering Course\") AS length\"\"\"\n",
        "\n",
        "spark.sql(qry2).show()"
      ]
    },
    {
      "cell_type": "markdown",
      "source": [
        "# Question"
      ],
      "metadata": {
        "id": "vGrxQ-jbHVF9"
      }
    },
    {
      "cell_type": "code",
      "execution_count": null,
      "metadata": {
        "id": "dMaASP-rxwTp"
      },
      "outputs": [],
      "source": [
        "# Q1\n",
        "# Create an UDF to add the department name to the dataset based on dpto id\n",
        "# mapping: {1: \"Marketing\", 2: \"Sales\", 3: \"HR\", 4: \"Finance\", 5: \"IT\"}"
      ]
    },
    {
      "cell_type": "code",
      "source": [
        "employee.show()"
      ],
      "metadata": {
        "id": "CgmzF5ZQTzXg",
        "outputId": "0e76a1cf-3984-4ecf-a465-d3f853d6d487",
        "colab": {
          "base_uri": "https://localhost:8080/"
        }
      },
      "execution_count": 7,
      "outputs": [
        {
          "output_type": "stream",
          "name": "stdout",
          "text": [
            "+---+-----+----+\n",
            "| id| name|dpto|\n",
            "+---+-----+----+\n",
            "|101|Chloe|   3|\n",
            "|102| Paul|   1|\n",
            "|103| John|   1|\n",
            "|104| Lisa|   2|\n",
            "|105| Evan|   3|\n",
            "|106|  Amy|   3|\n",
            "|107|Jimmy|   5|\n",
            "+---+-----+----+\n",
            "\n"
          ]
        }
      ]
    },
    {
      "cell_type": "code",
      "source": [],
      "metadata": {
        "id": "tZJg8XJSUDPz",
        "outputId": "02c6b69b-ceda-4ad2-c0ac-a3a6788ff724",
        "colab": {
          "base_uri": "https://localhost:8080/",
          "height": 35
        }
      },
      "execution_count": 9,
      "outputs": [
        {
          "output_type": "execute_result",
          "data": {
            "text/plain": [
              "'Marketing'"
            ],
            "application/vnd.google.colaboratory.intrinsic+json": {
              "type": "string"
            }
          },
          "metadata": {},
          "execution_count": 9
        }
      ]
    },
    {
      "cell_type": "code",
      "source": [
        "dpto_map = {1: \"Marketing\", 2: \"Sales\", 3: \"HR\", 4: \"Finance\", 5: \"IT\"}\n",
        "\n",
        "@udf\n",
        "def get_dpto_name(s, map=dpto_map):\n",
        "  return dpto_map[s]\n",
        "\n",
        "\n",
        "spark.udf.register(\"get_dpto_name\",get_dpto_name)"
      ],
      "metadata": {
        "id": "8fImRgujUFH2",
        "outputId": "0f2fbc96-b247-4581-9f71-e85aeca3da9a",
        "colab": {
          "base_uri": "https://localhost:8080/"
        }
      },
      "execution_count": 10,
      "outputs": [
        {
          "output_type": "execute_result",
          "data": {
            "text/plain": [
              "<pyspark.sql.udf.UserDefinedFunction at 0x7ef91f59a6e0>"
            ]
          },
          "metadata": {},
          "execution_count": 10
        }
      ]
    },
    {
      "cell_type": "code",
      "source": [
        "employee.select(employee[\"*\"], get_dpto_name(\"dpto\").alias(\"dpto_name\")).show()"
      ],
      "metadata": {
        "id": "lz1k9zAeVjyJ",
        "outputId": "8df945ee-a70e-4f20-aa6e-b94dba7ede3b",
        "colab": {
          "base_uri": "https://localhost:8080/"
        }
      },
      "execution_count": 11,
      "outputs": [
        {
          "output_type": "stream",
          "name": "stdout",
          "text": [
            "+---+-----+----+---------+\n",
            "| id| name|dpto|dpto_name|\n",
            "+---+-----+----+---------+\n",
            "|101|Chloe|   3|       HR|\n",
            "|102| Paul|   1|Marketing|\n",
            "|103| John|   1|Marketing|\n",
            "|104| Lisa|   2|    Sales|\n",
            "|105| Evan|   3|       HR|\n",
            "|106|  Amy|   3|       HR|\n",
            "|107|Jimmy|   5|       IT|\n",
            "+---+-----+----+---------+\n",
            "\n"
          ]
        }
      ]
    },
    {
      "cell_type": "code",
      "source": [
        "#Resposta do professor\n",
        "\n",
        "from pyspark.sql.functions import *\n",
        "# Creating UDF to get deparment nme from dict\n",
        "dpto_map = {1: \"Marketing\", 2: \"Sales\", 3: \"HR\", 4: \"Finance\", 5: \"IT\"}\n",
        "@udf\n",
        "def get_dpto_name(s, map=dpto_map):\n",
        "  return dpto_map[s]\n",
        "spark.udf.register(\"get_dpto_name\", get_dpto_name)\n",
        "employee.select(employee[\"*\"], get_dpto_name(\"dpto\").alias(\"dpto_name\")).show()\n",
        "employee.createOrReplaceTempView(\"employee\")\n",
        "spark.sql(\"select *, get_dpto_name(dpto) from employee\").show()"
      ],
      "metadata": {
        "id": "uz0awSPtV-e6"
      },
      "execution_count": null,
      "outputs": []
    }
  ],
  "metadata": {
    "colab": {
      "provenance": [],
      "include_colab_link": true
    },
    "kernelspec": {
      "display_name": "Python 3",
      "name": "python3"
    },
    "language_info": {
      "name": "python"
    }
  },
  "nbformat": 4,
  "nbformat_minor": 0
}