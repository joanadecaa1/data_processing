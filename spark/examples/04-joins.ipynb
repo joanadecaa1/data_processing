{
  "cells": [
    {
      "cell_type": "markdown",
      "metadata": {
        "id": "4M10EVsXFrd_"
      },
      "source": [
        "<a href=\"https://colab.research.google.com/github/lucprosa/dataeng-basic-course/blob/main/spark/examples/04-joins.ipynb\" target=\"_parent\"><img src=\"https://colab.research.google.com/assets/colab-badge.svg\" alt=\"Open In Colab\"/></a>"
      ]
    },
    {
      "cell_type": "markdown",
      "metadata": {
        "id": "BOA_wQSmLd9z"
      },
      "source": [
        "# Joins\n",
        "- inner join\n",
        "- left/right join\n",
        "- full join\n",
        "- left anti join\n",
        "- cartesian product\n",
        "- union/unionAll\n",
        "- minus\n",
        "- intersect"
      ]
    },
    {
      "cell_type": "markdown",
      "metadata": {
        "id": "d9LeYFsPTjAb"
      },
      "source": [
        "# Setting up PySpark"
      ]
    },
    {
      "cell_type": "code",
      "execution_count": 1,
      "metadata": {
        "colab": {
          "base_uri": "https://localhost:8080/"
        },
        "id": "uYXeODL0T1fO",
        "outputId": "c7943daf-89e3-499e-8696-1e6a87a5eae3"
      },
      "outputs": [
        {
          "output_type": "stream",
          "name": "stdout",
          "text": [
            "Requirement already satisfied: pyspark in /usr/local/lib/python3.10/dist-packages (3.5.3)\n",
            "Requirement already satisfied: py4j==0.10.9.7 in /usr/local/lib/python3.10/dist-packages (from pyspark) (0.10.9.7)\n"
          ]
        }
      ],
      "source": [
        "%pip install pyspark"
      ]
    },
    {
      "cell_type": "code",
      "execution_count": 2,
      "metadata": {
        "id": "637HFw00T3LP"
      },
      "outputs": [],
      "source": [
        "from pyspark.sql import SparkSession\n",
        "spark = SparkSession.builder.master('local').appName('Spark Course').config('spark.ui.port', '4050').getOrCreate()\n",
        "sc = spark.sparkContext"
      ]
    },
    {
      "cell_type": "code",
      "source": [
        "#Aqui estamos a criar a nossa colection/data frame com os dados"
      ],
      "metadata": {
        "id": "YRNOtbGJTDcq"
      },
      "execution_count": null,
      "outputs": []
    },
    {
      "cell_type": "code",
      "source": [
        "employee_data = [(\"101\", \"Chloe\", 3),\n",
        "            (\"102\", \"Paul\", 1),\n",
        "            (\"103\", \"John\", 1),\n",
        "            (\"104\", \"Lisa\", 2),\n",
        "            (\"105\", \"Evan\", 3),\n",
        "            (\"106\", \"Amy\", 3),\n",
        "            (\"107\", \"Jimmy\", 5)]\n",
        "dpto_data = [(\"1\", \"Engineering\"), (\"2\", \"Sales\"), (\"3\", \"Marketing\"), (\"4\", \"Finance\")]\n",
        "\n",
        "employee_columns = [\"id\", \"name\", \"dpto\"]\n",
        "dpto_columns = [\"dpto\", \"deptname\"]\n",
        "\n",
        "employee = sc.parallelize(employee_data).toDF(employee_columns) #Isto é que são os RDD, e o toDF para dataframe\n",
        "dpto = sc.parallelize(dpto_data).toDF(dpto_columns)"
      ],
      "metadata": {
        "id": "Us_jgkYJIhcT"
      },
      "execution_count": 3,
      "outputs": []
    },
    {
      "cell_type": "code",
      "source": [
        "# Employee's dtaframe\n",
        "employee.show()"
      ],
      "metadata": {
        "colab": {
          "base_uri": "https://localhost:8080/"
        },
        "id": "qudxqOymJj-s",
        "outputId": "170c76f2-2e02-4b61-ce0e-b999f7dbf85c"
      },
      "execution_count": 4,
      "outputs": [
        {
          "output_type": "stream",
          "name": "stdout",
          "text": [
            "+---+-----+----+\n",
            "| id| name|dpto|\n",
            "+---+-----+----+\n",
            "|101|Chloe|   3|\n",
            "|102| Paul|   1|\n",
            "|103| John|   1|\n",
            "|104| Lisa|   2|\n",
            "|105| Evan|   3|\n",
            "|106|  Amy|   3|\n",
            "|107|Jimmy|   5|\n",
            "+---+-----+----+\n",
            "\n"
          ]
        }
      ]
    },
    {
      "cell_type": "code",
      "source": [
        "# Department's dtaframe\n",
        "dpto.show()"
      ],
      "metadata": {
        "colab": {
          "base_uri": "https://localhost:8080/"
        },
        "id": "RXHcXZIPLfhZ",
        "outputId": "d2602e72-9eff-4d84-8986-7215d24e50ce"
      },
      "execution_count": 5,
      "outputs": [
        {
          "output_type": "stream",
          "name": "stdout",
          "text": [
            "+----+-----------+\n",
            "|dpto|   deptname|\n",
            "+----+-----------+\n",
            "|   1|Engineering|\n",
            "|   2|      Sales|\n",
            "|   3|  Marketing|\n",
            "|   4|    Finance|\n",
            "+----+-----------+\n",
            "\n"
          ]
        }
      ]
    },
    {
      "cell_type": "markdown",
      "metadata": {
        "id": "a7dhl2LPFreE"
      },
      "source": [
        "# Joins"
      ]
    },
    {
      "cell_type": "code",
      "source": [
        "employee.join(dpto, on=[\"dpto\"],how=\"inner\").show() #Não precisamos de escrever o inner porque por default é sempre o inner"
      ],
      "metadata": {
        "id": "72xNMA24TrGf",
        "outputId": "ad20fe1a-f740-4331-b62e-468dac19b131",
        "colab": {
          "base_uri": "https://localhost:8080/"
        }
      },
      "execution_count": 8,
      "outputs": [
        {
          "output_type": "stream",
          "name": "stdout",
          "text": [
            "+----+---+-----+-----------+\n",
            "|dpto| id| name|   deptname|\n",
            "+----+---+-----+-----------+\n",
            "|   1|102| Paul|Engineering|\n",
            "|   1|103| John|Engineering|\n",
            "|   2|104| Lisa|      Sales|\n",
            "|   3|101|Chloe|  Marketing|\n",
            "|   3|105| Evan|  Marketing|\n",
            "|   3|106|  Amy|  Marketing|\n",
            "+----+---+-----+-----------+\n",
            "\n"
          ]
        }
      ]
    },
    {
      "cell_type": "code",
      "execution_count": null,
      "metadata": {
        "colab": {
          "base_uri": "https://localhost:8080/"
        },
        "id": "3isk0KvuFreE",
        "outputId": "a68d08de-6e8a-47ab-d66a-e96e3c4b795c"
      },
      "outputs": [
        {
          "output_type": "stream",
          "name": "stdout",
          "text": [
            "+----+---+-----+-----------+\n",
            "|dpto| id| name|   deptname|\n",
            "+----+---+-----+-----------+\n",
            "|   1|102| Paul|Engineering|\n",
            "|   1|103| John|Engineering|\n",
            "|   2|104| Lisa|      Sales|\n",
            "|   3|101|Chloe|  Marketing|\n",
            "|   3|105| Evan|  Marketing|\n",
            "|   3|106|  Amy|  Marketing|\n",
            "+----+---+-----+-----------+\n",
            "\n",
            "+---+-----+----+----+-----------+\n",
            "| id| name|dpto|dpto|   deptname|\n",
            "+---+-----+----+----+-----------+\n",
            "|102| Paul|   1|   1|Engineering|\n",
            "|103| John|   1|   1|Engineering|\n",
            "|104| Lisa|   2|   2|      Sales|\n",
            "|101|Chloe|   3|   3|  Marketing|\n",
            "|105| Evan|   3|   3|  Marketing|\n",
            "|106|  Amy|   3|   3|  Marketing|\n",
            "+---+-----+----+----+-----------+\n",
            "\n"
          ]
        }
      ],
      "source": [
        "# Inner join - exists on both sides\n",
        "employee.join(dpto, [\"dpto\"]).show()\n",
        "# or\n",
        "employee.join(dpto, employee[\"dpto\"] == dpto[\"dpto\"], how = \"inner\").show() #este seria mais útil caso as colunas tivessem nomes diferentes, nos outros casos vai assumir que as colunas têm o mesmo nome e então vai omitir"
      ]
    },
    {
      "cell_type": "code",
      "source": [
        "# Left join - bring everything from the left side + what exists on right side\n",
        "\n",
        "employee.join(dpto, employee[\"dpto\"] == dpto[\"dpto\"], how = \"left\").show()"
      ],
      "metadata": {
        "colab": {
          "base_uri": "https://localhost:8080/"
        },
        "id": "7kH24QHgL9NE",
        "outputId": "bc26a858-4e74-43da-8428-1a1f95250ba7"
      },
      "execution_count": 9,
      "outputs": [
        {
          "output_type": "stream",
          "name": "stdout",
          "text": [
            "+---+-----+----+----+-----------+\n",
            "| id| name|dpto|dpto|   deptname|\n",
            "+---+-----+----+----+-----------+\n",
            "|107|Jimmy|   5|NULL|       NULL|\n",
            "|102| Paul|   1|   1|Engineering|\n",
            "|103| John|   1|   1|Engineering|\n",
            "|101|Chloe|   3|   3|  Marketing|\n",
            "|105| Evan|   3|   3|  Marketing|\n",
            "|106|  Amy|   3|   3|  Marketing|\n",
            "|104| Lisa|   2|   2|      Sales|\n",
            "+---+-----+----+----+-----------+\n",
            "\n"
          ]
        }
      ]
    },
    {
      "cell_type": "code",
      "source": [
        "# Right join - bring everything from the right side + what exists on left side\n",
        "\n",
        "employee.join(dpto, employee[\"dpto\"] == dpto[\"dpto\"], how = \"right\").show()"
      ],
      "metadata": {
        "colab": {
          "base_uri": "https://localhost:8080/"
        },
        "id": "0DvT6UdyM_0h",
        "outputId": "c14ddb4c-bbe8-4cb9-c94c-17a10505ef73"
      },
      "execution_count": 10,
      "outputs": [
        {
          "output_type": "stream",
          "name": "stdout",
          "text": [
            "+----+-----+----+----+-----------+\n",
            "|  id| name|dpto|dpto|   deptname|\n",
            "+----+-----+----+----+-----------+\n",
            "| 103| John|   1|   1|Engineering|\n",
            "| 102| Paul|   1|   1|Engineering|\n",
            "| 106|  Amy|   3|   3|  Marketing|\n",
            "| 105| Evan|   3|   3|  Marketing|\n",
            "| 101|Chloe|   3|   3|  Marketing|\n",
            "| 104| Lisa|   2|   2|      Sales|\n",
            "|NULL| NULL|NULL|   4|    Finance|\n",
            "+----+-----+----+----+-----------+\n",
            "\n"
          ]
        }
      ]
    },
    {
      "cell_type": "code",
      "source": [
        "employee.join(dpto, employee[\"dpto\"] == dpto[\"dpto\"], how = \"full\").where(\"deptname is null\").show()"
      ],
      "metadata": {
        "id": "ZEQkXYvsVT2L",
        "outputId": "2bf97b05-8780-4ec6-eb30-ccfa6e40ce18",
        "colab": {
          "base_uri": "https://localhost:8080/"
        }
      },
      "execution_count": 13,
      "outputs": [
        {
          "output_type": "stream",
          "name": "stdout",
          "text": [
            "+---+-----+----+----+--------+\n",
            "| id| name|dpto|dpto|deptname|\n",
            "+---+-----+----+----+--------+\n",
            "|107|Jimmy|   5|NULL|    NULL|\n",
            "+---+-----+----+----+--------+\n",
            "\n"
          ]
        }
      ]
    },
    {
      "cell_type": "code",
      "source": [
        "# Full join - bring everything from both side\n",
        "\n",
        "employee.join(dpto, employee[\"dpto\"] == dpto[\"dpto\"], how = \"full\").show()"
      ],
      "metadata": {
        "id": "cD5qkGyDNecI",
        "outputId": "14a366aa-db14-40a7-f21e-b53ee4321366",
        "colab": {
          "base_uri": "https://localhost:8080/"
        }
      },
      "execution_count": 11,
      "outputs": [
        {
          "output_type": "stream",
          "name": "stdout",
          "text": [
            "+----+-----+----+----+-----------+\n",
            "|  id| name|dpto|dpto|   deptname|\n",
            "+----+-----+----+----+-----------+\n",
            "| 102| Paul|   1|   1|Engineering|\n",
            "| 103| John|   1|   1|Engineering|\n",
            "| 104| Lisa|   2|   2|      Sales|\n",
            "| 101|Chloe|   3|   3|  Marketing|\n",
            "| 105| Evan|   3|   3|  Marketing|\n",
            "| 106|  Amy|   3|   3|  Marketing|\n",
            "|NULL| NULL|NULL|   4|    Finance|\n",
            "| 107|Jimmy|   5|NULL|       NULL|\n",
            "+----+-----+----+----+-----------+\n",
            "\n"
          ]
        }
      ]
    },
    {
      "cell_type": "code",
      "source": [
        "from pyskark.sql.functions\n",
        "\n",
        "\n",
        "employee.join(dpto, employee[\"dpto\"] == dpto[\"dpto\"], how = \"full\").filter(col(\"dpto.deptname\").isNull()).show()"
      ],
      "metadata": {
        "id": "I1kH8ae1VxbB",
        "outputId": "58fd2407-8706-4693-a36c-3b05c0326bcd",
        "colab": {
          "base_uri": "https://localhost:8080/",
          "height": 366
        }
      },
      "execution_count": 16,
      "outputs": [
        {
          "output_type": "error",
          "ename": "ModuleNotFoundError",
          "evalue": "No module named 'pyskark'",
          "traceback": [
            "\u001b[0;31m---------------------------------------------------------------------------\u001b[0m",
            "\u001b[0;31mModuleNotFoundError\u001b[0m                       Traceback (most recent call last)",
            "\u001b[0;32m<ipython-input-16-6fd0af5845c0>\u001b[0m in \u001b[0;36m<cell line: 1>\u001b[0;34m()\u001b[0m\n\u001b[0;32m----> 1\u001b[0;31m \u001b[0;32mfrom\u001b[0m \u001b[0mpyskark\u001b[0m\u001b[0;34m.\u001b[0m\u001b[0msql\u001b[0m\u001b[0;34m.\u001b[0m\u001b[0mfunctions\u001b[0m \u001b[0;32mimport\u001b[0m \u001b[0mcol\u001b[0m\u001b[0;34m\u001b[0m\u001b[0;34m\u001b[0m\u001b[0m\n\u001b[0m\u001b[1;32m      2\u001b[0m \u001b[0;34m\u001b[0m\u001b[0m\n\u001b[1;32m      3\u001b[0m \u001b[0;34m\u001b[0m\u001b[0m\n\u001b[1;32m      4\u001b[0m \u001b[0memployee\u001b[0m\u001b[0;34m.\u001b[0m\u001b[0mjoin\u001b[0m\u001b[0;34m(\u001b[0m\u001b[0mdpto\u001b[0m\u001b[0;34m,\u001b[0m \u001b[0memployee\u001b[0m\u001b[0;34m[\u001b[0m\u001b[0;34m\"dpto\"\u001b[0m\u001b[0;34m]\u001b[0m \u001b[0;34m==\u001b[0m \u001b[0mdpto\u001b[0m\u001b[0;34m[\u001b[0m\u001b[0;34m\"dpto\"\u001b[0m\u001b[0;34m]\u001b[0m\u001b[0;34m,\u001b[0m \u001b[0mhow\u001b[0m \u001b[0;34m=\u001b[0m \u001b[0;34m\"full\"\u001b[0m\u001b[0;34m)\u001b[0m\u001b[0;34m.\u001b[0m\u001b[0mfilter\u001b[0m\u001b[0;34m(\u001b[0m\u001b[0mcol\u001b[0m\u001b[0;34m(\u001b[0m\u001b[0;34m\"dpto.deptname\"\u001b[0m\u001b[0;34m)\u001b[0m\u001b[0;34m.\u001b[0m\u001b[0misNull\u001b[0m\u001b[0;34m(\u001b[0m\u001b[0;34m)\u001b[0m\u001b[0;34m)\u001b[0m\u001b[0;34m.\u001b[0m\u001b[0mshow\u001b[0m\u001b[0;34m(\u001b[0m\u001b[0;34m)\u001b[0m\u001b[0;34m\u001b[0m\u001b[0;34m\u001b[0m\u001b[0m\n",
            "\u001b[0;31mModuleNotFoundError\u001b[0m: No module named 'pyskark'",
            "",
            "\u001b[0;31m---------------------------------------------------------------------------\u001b[0;32m\nNOTE: If your import is failing due to a missing package, you can\nmanually install dependencies using either !pip or !apt.\n\nTo view examples of installing some common dependencies, click the\n\"Open Examples\" button below.\n\u001b[0;31m---------------------------------------------------------------------------\u001b[0m\n"
          ],
          "errorDetails": {
            "actions": [
              {
                "action": "open_url",
                "actionText": "Open Examples",
                "url": "/notebooks/snippets/importing_libraries.ipynb"
              }
            ]
          }
        }
      ]
    },
    {
      "cell_type": "code",
      "source": [
        "# left Anti Join - Bring everything from the left that don´t exist on the right\n",
        "employee.join(dpto, employee[\"dpto\"] == dpto[\"dpto\"], how = \"left_anti\").show()\n",
        "\n",
        "# right Anti Join - Bring everything from the right that don´t exist on the left\n",
        "dpto.join(employee, employee[\"dpto\"] == dpto[\"dpto\"], how = \"left_anti\").show()"
      ],
      "metadata": {
        "id": "eg4IpMjJNkzP",
        "outputId": "1903a4c6-41c9-4a97-9508-3cd9a76372e9",
        "colab": {
          "base_uri": "https://localhost:8080/"
        }
      },
      "execution_count": 12,
      "outputs": [
        {
          "output_type": "stream",
          "name": "stdout",
          "text": [
            "+---+-----+----+\n",
            "| id| name|dpto|\n",
            "+---+-----+----+\n",
            "|107|Jimmy|   5|\n",
            "+---+-----+----+\n",
            "\n",
            "+----+--------+\n",
            "|dpto|deptname|\n",
            "+----+--------+\n",
            "|   4| Finance|\n",
            "+----+--------+\n",
            "\n"
          ]
        }
      ]
    },
    {
      "cell_type": "markdown",
      "source": [
        "### Using SQL"
      ],
      "metadata": {
        "id": "37RxTSWRQLY9"
      }
    },
    {
      "cell_type": "code",
      "source": [
        "employee.createOrReplaceTempView(\"employee\")\n",
        "dpto.createOrReplaceTempView(\"dpto\")\n",
        "\n",
        "# bring all the employees with or without department\n",
        "spark.sql(\"select * from employee left join dpto using (dpto)\").show()"
      ],
      "metadata": {
        "id": "sWmJ_CmZQExG",
        "outputId": "bff40f27-cd0d-42a9-f392-becd4066bc90",
        "colab": {
          "base_uri": "https://localhost:8080/"
        }
      },
      "execution_count": 17,
      "outputs": [
        {
          "output_type": "stream",
          "name": "stdout",
          "text": [
            "+----+---+-----+-----------+\n",
            "|dpto| id| name|   deptname|\n",
            "+----+---+-----+-----------+\n",
            "|   5|107|Jimmy|       NULL|\n",
            "|   1|102| Paul|Engineering|\n",
            "|   1|103| John|Engineering|\n",
            "|   3|101|Chloe|  Marketing|\n",
            "|   3|105| Evan|  Marketing|\n",
            "|   3|106|  Amy|  Marketing|\n",
            "|   2|104| Lisa|      Sales|\n",
            "+----+---+-----+-----------+\n",
            "\n"
          ]
        }
      ]
    },
    {
      "cell_type": "markdown",
      "source": [
        "# Union / Minus / Intersect"
      ],
      "metadata": {
        "id": "SLbibB0-Uhap"
      }
    },
    {
      "cell_type": "code",
      "source": [
        "employee_hr = employee\n",
        "\n",
        "data = [(200, \"George\", 5), (201, \"Anna\", 5), (202, \"Carl\", 3), (101, \"Chloe\", 3), (103, \"John\", 1), (106, \"Amy\", 1)]\n",
        "employee_erp = spark.createDataFrame(data, schema=[\"id\", \"name\", \"dpto\"])\n",
        "\n",
        "print(\"HR database\")\n",
        "employee_hr.show()\n",
        "\n",
        "print(\"ERP database\")\n",
        "employee_erp.show()"
      ],
      "metadata": {
        "id": "1Kv63IAYUmJy",
        "outputId": "b12ab5b1-b9ac-40b8-ae2c-a47f2ee1c981",
        "colab": {
          "base_uri": "https://localhost:8080/"
        }
      },
      "execution_count": 18,
      "outputs": [
        {
          "output_type": "stream",
          "name": "stdout",
          "text": [
            "HR database\n",
            "+---+-----+----+\n",
            "| id| name|dpto|\n",
            "+---+-----+----+\n",
            "|101|Chloe|   3|\n",
            "|102| Paul|   1|\n",
            "|103| John|   1|\n",
            "|104| Lisa|   2|\n",
            "|105| Evan|   3|\n",
            "|106|  Amy|   3|\n",
            "|107|Jimmy|   5|\n",
            "+---+-----+----+\n",
            "\n",
            "ERP database\n",
            "+---+------+----+\n",
            "| id|  name|dpto|\n",
            "+---+------+----+\n",
            "|200|George|   5|\n",
            "|201|  Anna|   5|\n",
            "|202|  Carl|   3|\n",
            "|101| Chloe|   3|\n",
            "|103|  John|   1|\n",
            "|106|   Amy|   1|\n",
            "+---+------+----+\n",
            "\n"
          ]
        }
      ]
    },
    {
      "cell_type": "code",
      "source": [
        "# union / unionByName\n",
        "print(\"Combine both dataframes\")\n",
        "employee_hr.union(employee_erp).show() # union, unionAll   #UnionByName vai unir com base no nome das colunas, se o nome das colunas froem diferentes,m irá dar erro, o union por default, o unionall e o unionByName vai ser a mesma coisa e vai devolver duplicados, se quisermos unicos devemos ter o distinct() antes do show\n",
        "\n",
        "print(\"Get values that are common in both dataframes\")\n",
        "employee_hr.intersect(employee_erp).show()\n",
        "\n",
        "print(\"Get only the difference - does not exist on the second dataframe\")\n",
        "employee_hr.exceptAll(employee_erp).show()"
      ],
      "metadata": {
        "id": "61QkSnA7WjI8",
        "outputId": "1b8c37ec-7aaa-4160-8e02-b4868b678343",
        "colab": {
          "base_uri": "https://localhost:8080/"
        }
      },
      "execution_count": 24,
      "outputs": [
        {
          "output_type": "stream",
          "name": "stdout",
          "text": [
            "Combine both dataframes\n",
            "+---+------+----+\n",
            "| id|  name|dpto|\n",
            "+---+------+----+\n",
            "|106|   Amy|   3|\n",
            "|105|  Evan|   3|\n",
            "|104|  Lisa|   2|\n",
            "|101| Chloe|   3|\n",
            "|102|  Paul|   1|\n",
            "|107| Jimmy|   5|\n",
            "|103|  John|   1|\n",
            "|106|   Amy|   1|\n",
            "|202|  Carl|   3|\n",
            "|201|  Anna|   5|\n",
            "|200|George|   5|\n",
            "+---+------+----+\n",
            "\n",
            "Get values that are common in both dataframes\n",
            "+---+-----+----+\n",
            "| id| name|dpto|\n",
            "+---+-----+----+\n",
            "|101|Chloe|   3|\n",
            "|103| John|   1|\n",
            "+---+-----+----+\n",
            "\n",
            "Get only the difference - does not exist on the second dataframe\n",
            "+---+-----+----+\n",
            "| id| name|dpto|\n",
            "+---+-----+----+\n",
            "|106|  Amy|   3|\n",
            "|105| Evan|   3|\n",
            "|104| Lisa|   2|\n",
            "|102| Paul|   1|\n",
            "|107|Jimmy|   5|\n",
            "+---+-----+----+\n",
            "\n"
          ]
        }
      ]
    },
    {
      "cell_type": "markdown",
      "source": [
        "# Questions"
      ],
      "metadata": {
        "id": "E_enboWOQF3x"
      }
    },
    {
      "cell_type": "code",
      "source": [
        "# Q1\n",
        "# Implement Cartesian Product using dataframe and SQL\n",
        "# Use employee and dpto"
      ],
      "metadata": {
        "id": "-SDXliPvNtnr"
      },
      "execution_count": null,
      "outputs": []
    },
    {
      "cell_type": "code",
      "source": [
        "employee.join(dpto).count()"
      ],
      "metadata": {
        "id": "Em24rYKpaBub",
        "outputId": "d0956f19-0687-4be1-eaa2-e7763bee05b0",
        "colab": {
          "base_uri": "https://localhost:8080/"
        }
      },
      "execution_count": 25,
      "outputs": [
        {
          "output_type": "execute_result",
          "data": {
            "text/plain": [
              "28"
            ]
          },
          "metadata": {},
          "execution_count": 25
        }
      ]
    },
    {
      "cell_type": "code",
      "source": [
        "output = employee.join(dpto)\n",
        "output.explain()"
      ],
      "metadata": {
        "id": "gDLBBVVdagIj",
        "outputId": "aea584ba-2b63-4be6-bc13-e5cc00d7cbba",
        "colab": {
          "base_uri": "https://localhost:8080/"
        }
      },
      "execution_count": 27,
      "outputs": [
        {
          "output_type": "stream",
          "name": "stdout",
          "text": [
            "== Physical Plan ==\n",
            "CartesianProduct\n",
            ":- *(1) Scan ExistingRDD[id#0,name#1,dpto#2L]\n",
            "+- *(2) Scan ExistingRDD[dpto#6,deptname#7]\n",
            "\n",
            "\n"
          ]
        }
      ]
    },
    {
      "cell_type": "code",
      "source": [
        "# Q2\n",
        "# Implement \"Left Anti Join\" using SQL\n",
        "# Use employee and dpto"
      ],
      "metadata": {
        "id": "EjiSSK6HOsGS"
      },
      "execution_count": null,
      "outputs": []
    },
    {
      "cell_type": "code",
      "source": [
        "spark.sql(\"select * from employee left anti join dpto using (dpto)\").show()"
      ],
      "metadata": {
        "id": "9IDPaWa1a1T3",
        "outputId": "957921d9-836e-4009-f7f7-a14c662c0b72",
        "colab": {
          "base_uri": "https://localhost:8080/"
        }
      },
      "execution_count": 28,
      "outputs": [
        {
          "output_type": "stream",
          "name": "stdout",
          "text": [
            "+----+---+-----+\n",
            "|dpto| id| name|\n",
            "+----+---+-----+\n",
            "|   5|107|Jimmy|\n",
            "+----+---+-----+\n",
            "\n"
          ]
        }
      ]
    },
    {
      "cell_type": "code",
      "source": [
        "spark.sql(\"select * from employee e left join dpto d on e.dpto=d.dpto where d.dpto is null\").show()"
      ],
      "metadata": {
        "id": "Wm3Bb400a-UJ",
        "outputId": "bd3935e7-3835-4b07-8df2-7abb7504ff10",
        "colab": {
          "base_uri": "https://localhost:8080/"
        }
      },
      "execution_count": 29,
      "outputs": [
        {
          "output_type": "stream",
          "name": "stdout",
          "text": [
            "+---+-----+----+----+--------+\n",
            "| id| name|dpto|dpto|deptname|\n",
            "+---+-----+----+----+--------+\n",
            "|107|Jimmy|   5|NULL|    NULL|\n",
            "+---+-----+----+----+--------+\n",
            "\n"
          ]
        }
      ]
    },
    {
      "cell_type": "code",
      "source": [],
      "metadata": {
        "id": "PxPuhkgVbTuv"
      },
      "execution_count": null,
      "outputs": []
    }
  ],
  "metadata": {
    "colab": {
      "provenance": []
    },
    "kernelspec": {
      "display_name": "Python 3",
      "name": "python3"
    },
    "language_info": {
      "name": "python"
    }
  },
  "nbformat": 4,
  "nbformat_minor": 0
}