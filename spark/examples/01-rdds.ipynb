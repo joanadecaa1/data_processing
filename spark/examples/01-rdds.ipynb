{
  "cells": [
    {
      "cell_type": "markdown",
      "metadata": {
        "id": "view-in-github",
        "colab_type": "text"
      },
      "source": [
        "<a href=\"https://colab.research.google.com/github/joanadecaa1/data_processing/blob/main/spark/examples/01-rdds.ipynb\" target=\"_parent\"><img src=\"https://colab.research.google.com/assets/colab-badge.svg\" alt=\"Open In Colab\"/></a>"
      ]
    },
    {
      "cell_type": "markdown",
      "metadata": {
        "id": "4_GBE9UsyxwK"
      },
      "source": []
    },
    {
      "cell_type": "markdown",
      "metadata": {
        "id": "BOA_wQSmLd9z"
      },
      "source": [
        "# Data Collections (RDDs)"
      ]
    },
    {
      "cell_type": "markdown",
      "metadata": {
        "id": "d9LeYFsPTjAb"
      },
      "source": [
        "# Setting up PySpark"
      ]
    },
    {
      "cell_type": "code",
      "execution_count": 1,
      "metadata": {
        "colab": {
          "base_uri": "https://localhost:8080/"
        },
        "id": "uYXeODL0T1fO",
        "outputId": "d6d4f78a-2b17-4ca5-b173-e7325a7d3dea"
      },
      "outputs": [
        {
          "output_type": "stream",
          "name": "stdout",
          "text": [
            "Requirement already satisfied: pyspark in /usr/local/lib/python3.10/dist-packages (3.5.3)\n",
            "Requirement already satisfied: py4j==0.10.9.7 in /usr/local/lib/python3.10/dist-packages (from pyspark) (0.10.9.7)\n"
          ]
        }
      ],
      "source": [
        "%pip install pyspark"
      ]
    },
    {
      "cell_type": "code",
      "execution_count": 2,
      "metadata": {
        "id": "637HFw00T3LP"
      },
      "outputs": [],
      "source": [
        "from pyspark.sql import SparkSession\n",
        "spark = SparkSession.builder.master('local').appName('Spark Course').config('spark.ui.port', '4050').getOrCreate()"
      ]
    },
    {
      "cell_type": "code",
      "execution_count": 3,
      "metadata": {
        "id": "_WW76P6DpLpx"
      },
      "outputs": [],
      "source": [
        "# diff between SparkSession and SparkContext"
      ]
    },
    {
      "cell_type": "code",
      "execution_count": 4,
      "metadata": {
        "id": "SqwZjdL9MnL6"
      },
      "outputs": [],
      "source": [
        "sc = SparkSession.getActiveSession().sparkContext"
      ]
    },
    {
      "cell_type": "markdown",
      "metadata": {
        "id": "vGG7R76hMZ3E"
      },
      "source": [
        "# RDDs"
      ]
    },
    {
      "cell_type": "code",
      "execution_count": 5,
      "metadata": {
        "id": "DZaxZW0bMZ3F"
      },
      "outputs": [],
      "source": [
        "data = [1, 2, 3, 4, 5]\n",
        "distData = sc.parallelize(data)\n",
        "\n",
        "### Parallelized collections are created by calling SparkContext’s parallelize method on an existing iterable or collection in your driver program\n",
        "### The elements of the collection are copied to form a distributed dataset that can be operated on in parallel\n"
      ]
    },
    {
      "cell_type": "code",
      "execution_count": 6,
      "metadata": {
        "id": "a8eCChgrMZ3H"
      },
      "outputs": [],
      "source": [
        "### Run parallel operations\n",
        "distData.reduce(lambda a, b: a + b)\n",
        "\n",
        "### One important parameter for parallel collections is the number of partitions to cut the dataset into\n",
        "### Spark will run one task for each partition of the cluster\n",
        "### Typically you want 2-4 partitions for each CPU in your cluster\n",
        "### Normally, Spark tries to set the number of partitions automatically based on your cluster\n",
        "### However, you can also set it manually\n",
        "\n",
        "distData = sc.parallelize(data, 10)"
      ]
    },
    {
      "cell_type": "code",
      "source": [
        "distData.reduce(lambda a, b: a + b)"
      ],
      "metadata": {
        "id": "Nu1xl1wqybjN",
        "outputId": "753c55c1-f09d-4a14-8b07-b890b0ccbfe9",
        "colab": {
          "base_uri": "https://localhost:8080/"
        }
      },
      "execution_count": 9,
      "outputs": [
        {
          "output_type": "execute_result",
          "data": {
            "text/plain": [
              "15"
            ]
          },
          "metadata": {},
          "execution_count": 9
        }
      ]
    },
    {
      "cell_type": "code",
      "source": [
        "distData.getNumPartitions()"
      ],
      "metadata": {
        "id": "AoiX7g8Ay1Zz",
        "outputId": "c42cc6c9-5095-4f62-ea1c-be380decb3a3",
        "colab": {
          "base_uri": "https://localhost:8080/"
        }
      },
      "execution_count": 10,
      "outputs": [
        {
          "output_type": "execute_result",
          "data": {
            "text/plain": [
              "10"
            ]
          },
          "metadata": {},
          "execution_count": 10
        }
      ]
    },
    {
      "cell_type": "code",
      "source": [
        "a=1+2+3+4+5"
      ],
      "metadata": {
        "id": "zLrSC41Ly-35"
      },
      "execution_count": 11,
      "outputs": []
    },
    {
      "cell_type": "code",
      "source": [
        "a"
      ],
      "metadata": {
        "id": "Jx477iaczBzM",
        "outputId": "e643d4af-a849-4385-bfff-5157c379666d",
        "colab": {
          "base_uri": "https://localhost:8080/"
        }
      },
      "execution_count": 12,
      "outputs": [
        {
          "output_type": "execute_result",
          "data": {
            "text/plain": [
              "15"
            ]
          },
          "metadata": {},
          "execution_count": 12
        }
      ]
    },
    {
      "cell_type": "code",
      "execution_count": 14,
      "metadata": {
        "id": "8UzHNVzynNm-"
      },
      "outputs": [],
      "source": [
        "!mkdir /content/files/  #Criando um folder files dentro de um content\n",
        "text = \"red yellow white green\"\n",
        "\n",
        "text_file = open(\"/content/files/data.txt\", \"w\")\n",
        "text_file.write(text)\n",
        "text_file.close()\n",
        "\n"
      ]
    },
    {
      "cell_type": "markdown",
      "source": [
        "![image.png](data:image/png;base64,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)"
      ],
      "metadata": {
        "id": "EU4BmZiEzy_W"
      }
    },
    {
      "cell_type": "code",
      "source": [
        "text"
      ],
      "metadata": {
        "id": "VEBpNVvh1mYA",
        "outputId": "3598e8c2-1e90-4dac-9216-400da5036a59",
        "colab": {
          "base_uri": "https://localhost:8080/",
          "height": 35
        }
      },
      "execution_count": 19,
      "outputs": [
        {
          "output_type": "execute_result",
          "data": {
            "text/plain": [
              "'red yellow white green'"
            ],
            "application/vnd.google.colaboratory.intrinsic+json": {
              "type": "string"
            }
          },
          "metadata": {},
          "execution_count": 19
        }
      ]
    },
    {
      "cell_type": "code",
      "execution_count": 15,
      "metadata": {
        "id": "5qs9KNmJMZ3I"
      },
      "outputs": [],
      "source": [
        "### Read from external datasets\n",
        "distFile = sc.textFile(\"data.txt\")"
      ]
    },
    {
      "cell_type": "code",
      "execution_count": null,
      "metadata": {
        "id": "h1ftjIsEMZ3J"
      },
      "outputs": [],
      "source": [
        "### RDDs support two types of operations: transformations, which create a new dataset from an existing one, and actions, which return a value to the driver program after running a computation on the dataset\n",
        "\n",
        "### Example:\n",
        "### map is a transformation that passes each dataset element through a function and returns a new RDD representing the results\n",
        "### reduce is an action that aggregates all the elements of the RDD using some function and returns the final result to the driver program"
      ]
    },
    {
      "cell_type": "code",
      "execution_count": 16,
      "metadata": {
        "colab": {
          "base_uri": "https://localhost:8080/"
        },
        "id": "PJr1dWvFMZ3J",
        "outputId": "0ad23fe2-a5df-40cf-bea8-951a46644784"
      },
      "outputs": [
        {
          "output_type": "stream",
          "name": "stdout",
          "text": [
            "22\n"
          ]
        }
      ],
      "source": [
        "### All transformations in Spark are lazy\n",
        "### The transformations are only computed when an action requires a result to be returned to the driver program\n",
        "\n",
        "lines = sc.textFile(\"/content/files/data.txt\")\n",
        "lineLengths = lines.map(lambda s: len(s))\n",
        "totalLength = lineLengths.reduce(lambda a, b: a + b)\n",
        "print(totalLength)\n",
        "\n",
        "### The first line defines a base RDD from an external file.\n",
        "### lines is merely a pointer to the file\n",
        "### The second line defines lineLengths as the result of a map transformation\n",
        "### lineLengths is not immediately computed, due to laziness\n",
        "### reducer is an actions so Spark breaks the computation into tasks to run on separate machines\n",
        "### and each machine runs both its part of the map and a local reduction, returning only its answer to the driver program."
      ]
    },
    {
      "cell_type": "code",
      "execution_count": 17,
      "metadata": {
        "colab": {
          "base_uri": "https://localhost:8080/"
        },
        "id": "QKflP9NxpweG",
        "outputId": "d2cb07d4-ce50-4bcf-e5df-30c0044e56b3"
      },
      "outputs": [
        {
          "output_type": "execute_result",
          "data": {
            "text/plain": [
              "['red yellow white green']"
            ]
          },
          "metadata": {},
          "execution_count": 17
        }
      ],
      "source": [
        "lines.collect()  #vai devolver sempre lista mesmo que seja uma string"
      ]
    },
    {
      "cell_type": "code",
      "execution_count": 18,
      "metadata": {
        "colab": {
          "base_uri": "https://localhost:8080/"
        },
        "id": "eFgcn2llperu",
        "outputId": "26d271d1-c73f-470e-ffaf-245ccf63a618"
      },
      "outputs": [
        {
          "output_type": "execute_result",
          "data": {
            "text/plain": [
              "PythonRDD[9] at RDD at PythonRDD.scala:53"
            ]
          },
          "metadata": {},
          "execution_count": 18
        }
      ],
      "source": [
        "### if we want to use lineLenghts again\n",
        "lineLengths.persist()\n",
        "### before the reduce, which would cause lineLengths to be saved in memory after the first time it is computed."
      ]
    },
    {
      "cell_type": "code",
      "source": [],
      "metadata": {
        "id": "NXCOObL-1lHI"
      },
      "execution_count": null,
      "outputs": []
    },
    {
      "cell_type": "code",
      "source": [],
      "metadata": {
        "id": "z9n_nByX1Vim"
      },
      "execution_count": null,
      "outputs": []
    }
  ],
  "metadata": {
    "colab": {
      "provenance": [],
      "include_colab_link": true
    },
    "kernelspec": {
      "display_name": "Python 3",
      "name": "python3"
    },
    "language_info": {
      "name": "python"
    }
  },
  "nbformat": 4,
  "nbformat_minor": 0
}